{
 "cells": [
  {
   "cell_type": "code",
   "execution_count": null,
   "metadata": {},
   "outputs": [],
   "source": [
    "# reversing a number"
   ]
  },
  {
   "cell_type": "code",
   "execution_count": 3,
   "metadata": {},
   "outputs": [
    {
     "name": "stdout",
     "output_type": "stream",
     "text": [
      "Enter a number:125\n",
      "The number is: 5\n",
      "The number is: 52\n",
      "The number is: 521\n"
     ]
    }
   ],
   "source": [
    "n =  int(input(\"Enter a number:\"))\n",
    "rev = 0\n",
    "while(n>0):\n",
    "    dig = n%10\n",
    "    rev = rev*10+dig\n",
    "    n=n//10\n",
    "    print(\"The number is:\",rev)"
   ]
  },
  {
   "cell_type": "code",
   "execution_count": 4,
   "metadata": {},
   "outputs": [
    {
     "name": "stdout",
     "output_type": "stream",
     "text": [
      "Enter a number:151\n",
      "The number is Palindrome\n"
     ]
    }
   ],
   "source": [
    "# palindrome program\n",
    "n =  int(input(\"Enter a number:\"))\n",
    "temp = n\n",
    "rev = 0\n",
    "while(n>0):\n",
    "    dig = n%10\n",
    "    rev = rev*10+dig\n",
    "    n=n//10\n",
    "if (temp == rev):\n",
    "    print(\"The number is Palindrome\")\n",
    "else:\n",
    "    print(\"The Number is not palindrome\")"
   ]
  },
  {
   "cell_type": "code",
   "execution_count": 7,
   "metadata": {},
   "outputs": [
    {
     "name": "stdout",
     "output_type": "stream",
     "text": [
      "Enter a number:8\n",
      "The number is: 13\n"
     ]
    }
   ],
   "source": [
    "# fibonacci series programming\n",
    "# n = 0 1 2 3 4 5 6 7  8 9 10\n",
    "# v = 0 1 1 2 3 5 8 13 \n",
    "n =  int(input(\"Enter a number:\"))\n",
    "a=0\n",
    "b=1\n",
    "if (n == a):\n",
    "    print(\"The number is:\",n)\n",
    "elif (n == b):\n",
    "    print(\"The number is:\",n)\n",
    "else:\n",
    "    for i in range(2,n):\n",
    "        c = a + b\n",
    "        a = b\n",
    "        b = c\n",
    "    print(\"The number is:\",b)\n"
   ]
  },
  {
   "cell_type": "code",
   "execution_count": 9,
   "metadata": {},
   "outputs": [
    {
     "name": "stdout",
     "output_type": "stream",
     "text": [
      "\n",
      "\n",
      "* \n",
      "\n",
      "* * \n",
      "\n",
      "* * * \n",
      "\n",
      "* * * * \n",
      "\n",
      "* * * * * \n",
      "\n"
     ]
    }
   ],
   "source": [
    "#printing the number\n",
    "num = 0\n",
    "for num in range(6):\n",
    "    for i in range(num):\n",
    "    \n",
    "        print(\"*\",end=\" \")\n",
    "    print(\"\\n\")\n",
    "    "
   ]
  },
  {
   "cell_type": "code",
   "execution_count": 10,
   "metadata": {},
   "outputs": [],
   "source": [
    "# Function with Parameters"
   ]
  },
  {
   "cell_type": "code",
   "execution_count": 11,
   "metadata": {},
   "outputs": [],
   "source": [
    "def add(x):\n",
    "    print(x+1)\n",
    "    "
   ]
  },
  {
   "cell_type": "code",
   "execution_count": 12,
   "metadata": {},
   "outputs": [
    {
     "name": "stdout",
     "output_type": "stream",
     "text": [
      "11\n"
     ]
    }
   ],
   "source": [
    "add(10)"
   ]
  },
  {
   "cell_type": "code",
   "execution_count": 15,
   "metadata": {},
   "outputs": [],
   "source": [
    "def evenodd(x):\n",
    "    if x%2==0:\n",
    "        print(x, \" is even\")\n",
    "    else:\n",
    "        print(x, \" is odd\")"
   ]
  },
  {
   "cell_type": "code",
   "execution_count": 16,
   "metadata": {},
   "outputs": [
    {
     "name": "stdout",
     "output_type": "stream",
     "text": [
      "10  is even\n"
     ]
    }
   ],
   "source": [
    "evenodd(10)"
   ]
  },
  {
   "cell_type": "code",
   "execution_count": 9,
   "metadata": {},
   "outputs": [
    {
     "name": "stdout",
     "output_type": "stream",
     "text": [
      "8\n",
      "0001\n"
     ]
    }
   ],
   "source": [
    "# program to convert binary to decimal\n",
    "n = int(input())\n",
    "b = bin(n)\n",
    "print(b[2:][: :-1])\n"
   ]
  },
  {
   "cell_type": "code",
   "execution_count": 11,
   "metadata": {},
   "outputs": [
    {
     "name": "stdout",
     "output_type": "stream",
     "text": [
      "This is code for reverse string\n",
      "gnirts esrever rof edoc si sihT\n"
     ]
    }
   ],
   "source": [
    "#This is a coding for reversing a string\n",
    "n = str(input())\n",
    "\n",
    "print(n[: : -1])"
   ]
  },
  {
   "cell_type": "code",
   "execution_count": 18,
   "metadata": {},
   "outputs": [
    {
     "name": "stdout",
     "output_type": "stream",
     "text": [
      "This is a coding for reversing a string\n",
      "Tihs is a cnidog for rnisreveg a snirtg "
     ]
    }
   ],
   "source": [
    "s= str(input())\n",
    "n=s.split()\n",
    "for i in n:\n",
    "        if len(i)>3:\n",
    "            print(i[0]+i[1:len(i)-1][::-1]+i[-1],end=\" \")\n",
    "        else: \n",
    "            print(i,end=\" \")"
   ]
  },
  {
   "cell_type": "code",
   "execution_count": 26,
   "metadata": {},
   "outputs": [
    {
     "name": "stdout",
     "output_type": "stream",
     "text": [
      "1\n",
      "5\n",
      "2\n",
      "2\n"
     ]
    }
   ],
   "source": [
    "# Arthimetic Progression\n",
    "a = int(input()) #first term of AP\n",
    "n = int(input()) # size of AP\n",
    "d = int(input()) # difference interm of AP\n",
    "\n",
    "r = (n/2)*(2*a+(n-1)*d)\n",
    "print(str(r)[::-1])"
   ]
  },
  {
   "cell_type": "code",
   "execution_count": 2,
   "metadata": {},
   "outputs": [
    {
     "name": "stdout",
     "output_type": "stream",
     "text": [
      "Enter The name:Vaibhav\n"
     ]
    }
   ],
   "source": [
    "name = input(\"Enter The name:\")\n"
   ]
  },
  {
   "cell_type": "code",
   "execution_count": 3,
   "metadata": {},
   "outputs": [
    {
     "data": {
      "text/plain": [
       "'Vaibhav'"
      ]
     },
     "execution_count": 3,
     "metadata": {},
     "output_type": "execute_result"
    }
   ],
   "source": [
    "name"
   ]
  },
  {
   "cell_type": "code",
   "execution_count": 5,
   "metadata": {},
   "outputs": [
    {
     "ename": "SyntaxError",
     "evalue": "invalid syntax (<ipython-input-5-55199650491a>, line 9)",
     "output_type": "error",
     "traceback": [
      "\u001b[1;36m  File \u001b[1;32m\"<ipython-input-5-55199650491a>\"\u001b[1;36m, line \u001b[1;32m9\u001b[0m\n\u001b[1;33m    def _main_():\u001b[0m\n\u001b[1;37m      ^\u001b[0m\n\u001b[1;31mSyntaxError\u001b[0m\u001b[1;31m:\u001b[0m invalid syntax\n"
     ]
    }
   ],
   "source": [
    "class Myclass():\n",
    "    def method1(self):\n",
    "        print(\"Myclass methd1\")\n",
    "    \n",
    "    def method2(self, someString):\n",
    "        print(\"myclass method2\" + someString\n",
    "\n",
    "\n",
    "    def _main_():\n",
    "              c = Myclass()\n",
    "              c.method1()\n",
    "              c.method2()\n",
    "              \n",
    "if _name_==\"_main_\":\n",
    "              main()\n",
    "              "
   ]
  },
  {
   "cell_type": "code",
   "execution_count": null,
   "metadata": {},
   "outputs": [],
   "source": []
  }
 ],
 "metadata": {
  "kernelspec": {
   "display_name": "Python 3",
   "language": "python",
   "name": "python3"
  },
  "language_info": {
   "codemirror_mode": {
    "name": "ipython",
    "version": 3
   },
   "file_extension": ".py",
   "mimetype": "text/x-python",
   "name": "python",
   "nbconvert_exporter": "python",
   "pygments_lexer": "ipython3",
   "version": "3.7.4"
  }
 },
 "nbformat": 4,
 "nbformat_minor": 2
}
