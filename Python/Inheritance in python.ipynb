{
 "cells": [
  {
   "cell_type": "code",
   "execution_count": 27,
   "metadata": {},
   "outputs": [],
   "source": [
    "# This is Base Class \n",
    "class Vehical:\n",
    "    def __init__(self, milege, cost):\n",
    "        self.milege = milege\n",
    "        self.cost = cost\n",
    "        \n",
    "    def show_detail_(self):\n",
    "        print(\"Hello This is Bullet :India:Vehical:\")\n",
    "        print(\"Hello This is Bullet :India:Vehical:Milege:\",self.milege,\"CC\")\n",
    "        print(\"Hello This is Bullet :India:Vehical:Cost:\",self.cost)\n",
    "        "
   ]
  },
  {
   "cell_type": "code",
   "execution_count": 28,
   "metadata": {},
   "outputs": [],
   "source": [
    "v1 = Vehical(500,250000)"
   ]
  },
  {
   "cell_type": "code",
   "execution_count": 29,
   "metadata": {},
   "outputs": [
    {
     "name": "stdout",
     "output_type": "stream",
     "text": [
      "Hello This is Bullet :India:Vehical:\n",
      "Hello This is Bullet :India:Vehical:Milege: 500 CC\n",
      "Hello This is Bullet :India:Vehical:Cost: 250000\n"
     ]
    }
   ],
   "source": [
    "v1.show_detail_()"
   ]
  },
  {
   "cell_type": "code",
   "execution_count": 35,
   "metadata": {},
   "outputs": [],
   "source": [
    "#This is child class which we are overriding \n",
    "class Car(Vehical):\n",
    "    def __init__(self,milege,cost,tyres,hp):\n",
    "        super().__init__(milege,cost)\n",
    "        self.tyres = tyres\n",
    "        self.hp = hp\n",
    "    \n",
    "    def show_car_detail_(self):\n",
    "        print(\"Hello this is B==>V:Car:\")\n",
    "        print(\"this is B==>V:Car:Tyres:\",self.tyres)\n",
    "        print(\"this is B==>V:Car:HP:\",self.hp)"
   ]
  },
  {
   "cell_type": "code",
   "execution_count": 36,
   "metadata": {},
   "outputs": [],
   "source": [
    "c1 = Car(100,50000,8,16)"
   ]
  },
  {
   "cell_type": "code",
   "execution_count": 37,
   "metadata": {},
   "outputs": [
    {
     "name": "stdout",
     "output_type": "stream",
     "text": [
      "Hello This is Bullet :India:Vehical:\n",
      "Hello This is Bullet :India:Vehical:Milege: 100 CC\n",
      "Hello This is Bullet :India:Vehical:Cost: 50000\n"
     ]
    }
   ],
   "source": [
    "c1.show_detail_()"
   ]
  },
  {
   "cell_type": "code",
   "execution_count": 38,
   "metadata": {},
   "outputs": [
    {
     "name": "stdout",
     "output_type": "stream",
     "text": [
      "Hello this is B==>V:Car:\n",
      "this is B==>V:Car:Tyres: 8\n",
      "this is B==>V:Car:HP: 16\n"
     ]
    }
   ],
   "source": [
    "c1.show_car_detail_()"
   ]
  }
 ],
 "metadata": {
  "kernelspec": {
   "display_name": "Python 3",
   "language": "python",
   "name": "python3"
  },
  "language_info": {
   "codemirror_mode": {
    "name": "ipython",
    "version": 3
   },
   "file_extension": ".py",
   "mimetype": "text/x-python",
   "name": "python",
   "nbconvert_exporter": "python",
   "pygments_lexer": "ipython3",
   "version": "3.7.4"
  }
 },
 "nbformat": 4,
 "nbformat_minor": 2
}
